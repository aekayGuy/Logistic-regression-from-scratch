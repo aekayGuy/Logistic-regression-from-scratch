{
 "cells": [
  {
   "cell_type": "markdown",
   "metadata": {
    "colab_type": "text",
    "id": "lbZf9p5gSvn1"
   },
   "source": [
    "## Goal - \n",
    "- compare your implementation and SGDClassifier's the weights and intercept, make sure they are as close as possible i.e difference should be in terms of 10^-3"
   ]
  },
  {
   "cell_type": "code",
   "execution_count": 1,
   "metadata": {},
   "outputs": [],
   "source": [
    "import numpy as np\n",
    "import pandas as pd\n",
    "import matplotlib.pyplot as plt\n",
    "import math\n",
    "from sklearn.datasets import make_classification\n",
    "from sklearn.linear_model import SGDClassifier\n",
    "from sklearn.model_selection import train_test_split\n",
    "from tqdm import tqdm\n",
    "import warnings\n",
    "warnings.filterwarnings('ignore')"
   ]
  },
  {
   "cell_type": "code",
   "execution_count": 2,
   "metadata": {},
   "outputs": [],
   "source": [
    "X, y = make_classification(n_samples=50000, n_features=15, n_informative=10, n_redundant=5,\n",
    "                           n_classes=2, weights=[0.7], class_sep=0.7, random_state=15)"
   ]
  },
  {
   "cell_type": "code",
   "execution_count": 3,
   "metadata": {
    "scrolled": true
   },
   "outputs": [
    {
     "data": {
      "text/plain": [
       "((37500, 15), (12500, 15), (37500,), (12500,))"
      ]
     },
     "execution_count": 3,
     "metadata": {},
     "output_type": "execute_result"
    }
   ],
   "source": [
    "X_train, X_test, y_train, y_test = train_test_split(X, y, test_size = 0.25)\n",
    "X_train.shape, X_test.shape, y_train.shape, y_test.shape"
   ]
  },
  {
   "cell_type": "markdown",
   "metadata": {},
   "source": [
    "# 1. LogisticRegression with Sklearn - SGDClassifier"
   ]
  },
  {
   "cell_type": "code",
   "execution_count": 4,
   "metadata": {},
   "outputs": [],
   "source": [
    "clf = SGDClassifier(eta0=0.0001, alpha=0.0001, loss = 'log', verbose=2, random_state=15,\n",
    "                    penalty= 'l2', learning_rate= 'constant', tol= 1e-3)"
   ]
  },
  {
   "cell_type": "code",
   "execution_count": 5,
   "metadata": {},
   "outputs": [
    {
     "name": "stdout",
     "output_type": "stream",
     "text": [
      "-- Epoch 1\n",
      "Norm: 0.76, NNZs: 15, Bias: -0.316709, T: 37500, Avg. loss: 0.456075\n",
      "Total training time: 0.03 seconds.\n",
      "-- Epoch 2\n",
      "Norm: 0.92, NNZs: 15, Bias: -0.474481, T: 75000, Avg. loss: 0.394632\n",
      "Total training time: 0.06 seconds.\n",
      "-- Epoch 3\n",
      "Norm: 0.98, NNZs: 15, Bias: -0.586473, T: 112500, Avg. loss: 0.385316\n",
      "Total training time: 0.09 seconds.\n",
      "-- Epoch 4\n",
      "Norm: 1.02, NNZs: 15, Bias: -0.667137, T: 150000, Avg. loss: 0.381770\n",
      "Total training time: 0.12 seconds.\n",
      "-- Epoch 5\n",
      "Norm: 1.04, NNZs: 15, Bias: -0.723029, T: 187500, Avg. loss: 0.380076\n",
      "Total training time: 0.15 seconds.\n",
      "-- Epoch 6\n",
      "Norm: 1.05, NNZs: 15, Bias: -0.766657, T: 225000, Avg. loss: 0.379137\n",
      "Total training time: 0.17 seconds.\n",
      "-- Epoch 7\n",
      "Norm: 1.06, NNZs: 15, Bias: -0.800738, T: 262500, Avg. loss: 0.378783\n",
      "Total training time: 0.21 seconds.\n",
      "-- Epoch 8\n",
      "Norm: 1.07, NNZs: 15, Bias: -0.825219, T: 300000, Avg. loss: 0.378431\n",
      "Total training time: 0.23 seconds.\n",
      "-- Epoch 9\n",
      "Norm: 1.07, NNZs: 15, Bias: -0.843961, T: 337500, Avg. loss: 0.378345\n",
      "Total training time: 0.26 seconds.\n",
      "-- Epoch 10\n",
      "Norm: 1.08, NNZs: 15, Bias: -0.858044, T: 375000, Avg. loss: 0.378326\n",
      "Total training time: 0.29 seconds.\n",
      "Convergence after 10 epochs took 0.29 seconds\n"
     ]
    },
    {
     "data": {
      "text/plain": [
       "SGDClassifier(alpha=0.0001, average=False, class_weight=None,\n",
       "       early_stopping=False, epsilon=0.1, eta0=0.0001, fit_intercept=True,\n",
       "       l1_ratio=0.15, learning_rate='constant', loss='log', max_iter=None,\n",
       "       n_iter=None, n_iter_no_change=5, n_jobs=None, penalty='l2',\n",
       "       power_t=0.5, random_state=15, shuffle=True, tol=0.001,\n",
       "       validation_fraction=0.1, verbose=2, warm_start=False)"
      ]
     },
     "execution_count": 5,
     "metadata": {},
     "output_type": "execute_result"
    }
   ],
   "source": [
    "clf.fit(X_train, y_train)"
   ]
  },
  {
   "cell_type": "code",
   "execution_count": 16,
   "metadata": {
    "scrolled": true
   },
   "outputs": [
    {
     "data": {
      "text/plain": [
       "(array([[-0.42667592,  0.1816455 , -0.14415724,  0.34206816, -0.20533706,\n",
       "          0.56175067, -0.45319481, -0.09094483,  0.21485474,  0.17900476,\n",
       "          0.19209177,  0.00387419, -0.08029135,  0.33539726,  0.03246409]]),\n",
       " (1, 15),\n",
       " -0.8580437843819938)"
      ]
     },
     "execution_count": 16,
     "metadata": {},
     "output_type": "execute_result"
    }
   ],
   "source": [
    "clf.coef_, clf.coef_.shape, clf.intercept_[0]"
   ]
  },
  {
   "cell_type": "markdown",
   "metadata": {},
   "source": [
    "# Implementing Custom SGD and LogisticRegression - SGDClassifier"
   ]
  },
  {
   "cell_type": "code",
   "execution_count": 7,
   "metadata": {},
   "outputs": [],
   "source": [
    "# sigmoid function\n",
    "def sigmoid(x):\n",
    "    lst = []\n",
    "    for i in range(len(x)):\n",
    "        lst.append(1 / (1 + math.exp(-x[i])))\n",
    "    return np.array(lst)"
   ]
  },
  {
   "cell_type": "code",
   "execution_count": 8,
   "metadata": {},
   "outputs": [],
   "source": [
    "# computing log_loss\n",
    "def logloss(y_true, y_prob):\n",
    "    loss = (y_true) * np.log10(y_prob) + ((1-y_true) * np.log10((1-y_prob)))\n",
    "    loss = (-1*np.nanmean(loss))\n",
    "    return loss"
   ]
  },
  {
   "cell_type": "code",
   "execution_count": 55,
   "metadata": {},
   "outputs": [
    {
     "name": "stdout",
     "output_type": "stream",
     "text": [
      "------------ epoch 1 ------------\n",
      "Train_loss = 0.1752946598710259 Test_loss = 0.17597161510070655 bias = -0.31885491161447194 \n",
      "\n",
      "------------ epoch 2 ------------\n",
      "Train_loss = 0.16875109444989128 Test_loss = 0.1695854654026965 bias = -0.4844985839105372 \n",
      "\n",
      "------------ epoch 3 ------------\n",
      "Train_loss = 0.16625060822170554 Test_loss = 0.16761863603734678 bias = -0.5881353214130431 \n",
      "\n",
      "------------ epoch 4 ------------\n",
      "Train_loss = 0.16521179032349723 Test_loss = 0.16656206662053893 bias = -0.6647010963994319 \n",
      "\n",
      "------------ epoch 5 ------------\n",
      "Train_loss = 0.16477032575776826 Test_loss = 0.16608314326953194 bias = -0.7214618200168553 \n",
      "\n",
      "------------ epoch 6 ------------\n",
      "Train_loss = 0.1644133010337416 Test_loss = 0.16596191837057567 bias = -0.7689725879534853 \n",
      "\n",
      "------------ epoch 7 ------------\n",
      "Train_loss = 0.16427883496114218 Test_loss = 0.16570308014268142 bias = -0.8104903396049281 \n",
      "\n",
      "------------ epoch 8 ------------\n",
      "Train_loss = 0.1643589138053186 Test_loss = 0.16601451634677106 bias = -0.8347417174347989 \n",
      "\n",
      "------------ epoch 9 ------------\n",
      "Train_loss = 0.1642061486136789 Test_loss = 0.1658521230619215 bias = -0.8381642692223511 \n",
      "\n",
      "------------ epoch 10 ------------\n",
      "Train_loss = 0.16413621749208465 Test_loss = 0.16571867797648832 bias = -0.8567187540562821 \n",
      "\n",
      "------------ epoch 11 ------------\n",
      "Train_loss = 0.16410999031151852 Test_loss = 0.16565612357027806 bias = -0.8580489314545229 \n",
      "\n"
     ]
    }
   ],
   "source": [
    "# 2. Initialized the weight_vector and intercept term randomly\n",
    "alpha = 0.0001         # Hyper-parameter\n",
    "eta0 = 0.0001          # Learning rate\n",
    "w = np.zeros_like(X_train[0])\n",
    "bi = 0\n",
    "N = len(X_train)\n",
    "batch_size = 1\n",
    "epoch = 15             # Max_epoch\n",
    "log_loss_lst_Train = []\n",
    "log_loss_lst_Test = []\n",
    "\n",
    "# 3.i. initial log_loss for TRAIN\n",
    "y_proba = sigmoid(np.dot(X_train, w) + bi)\n",
    "log_loss_lst_Train.append(logloss(y_train, y_proba))\n",
    "\n",
    "# 3.ii. initial log_loss for TEST\n",
    "y_proba = sigmoid(np.dot(X_test, w) + bi)\n",
    "log_loss_lst_Test.append(logloss(y_test, y_proba))\n",
    "\n",
    "for k in range(epoch):\n",
    "    for i in range(N):\n",
    "        batch_list = np.random.randint(0,N, batch_size)\n",
    "        \n",
    "        y_proba = sigmoid(np.dot(X_train[batch_list], w) + bi)\n",
    "        \n",
    "        # 4.i. update function for 'wi'\n",
    "        wi = (1-(eta0*alpha/N))*w + eta0 *(np.dot(X_train[batch_list].T, (y_train[batch_list] - y_proba)))\n",
    "        \n",
    "        # 4.ii. update function for 'bi'\n",
    "        bi = np.mean(bi + eta0*(y_train[batch_list] - y_proba))\n",
    "        \n",
    "        w = wi\n",
    "        '''\n",
    "        # 4.iii. computing log_loss for whole train_set\n",
    "        y_proba = sigmoid(np.dot(X_train, w) + bi)\n",
    "        log_loss_iter_train.append(logloss(y_train, y_proba))\n",
    "        \n",
    "        # 4.iv. computing log_loss for whole train_set\n",
    "        y_proba = sigmoid(np.dot(X_test, w) + bi)\n",
    "        log_loss_iter_train.append(logloss(y_test, y_proba))\n",
    "        \n",
    "        \n",
    "        # Stopping iteration\n",
    "        '''\n",
    "        if bi <= clf.intercept_:\n",
    "            break\n",
    "    # 5.i. computing log_loss for whole train_set\n",
    "    y_proba = sigmoid(np.dot(X_train, w) + bi)\n",
    "    log_loss_lst_Train.append(logloss(y_train, y_proba))\n",
    "    \n",
    "    # 5.ii. computing log_loss for whole train_set\n",
    "    y_proba_test = sigmoid(np.dot(X_test, w) + bi)\n",
    "    log_loss_lst_Test.append(logloss(y_test, y_proba_test))\n",
    "    \n",
    "    print('------------ epoch {} ------------'.format(k+1))\n",
    "    print('Train_loss =', log_loss_lst_Train[k+1], 'Test_loss =',log_loss_lst_Test[k+1], 'bias =',bi, '\\n')\n",
    "    \n",
    "    if bi <= clf.intercept_:\n",
    "        break"
   ]
  },
  {
   "cell_type": "code",
   "execution_count": 47,
   "metadata": {},
   "outputs": [
    {
     "data": {
      "text/plain": [
       "-0.0008866396666684818"
      ]
     },
     "execution_count": 47,
     "metadata": {},
     "output_type": "execute_result"
    }
   ],
   "source": [
    "if np.absolute(np.mean(np.absolute(w) - np.absolute(clf.coef_))) <= 0.0009:\n",
    "            break"
   ]
  },
  {
   "cell_type": "code",
   "execution_count": 56,
   "metadata": {
    "scrolled": true
   },
   "outputs": [
    {
     "data": {
      "image/png": "[encoded data removed]",
      "text/plain": [
       "<Figure size 432x288 with 1 Axes>"
      ]
     },
     "metadata": {
      "needs_background": "light"
     },
     "output_type": "display_data"
    }
   ],
   "source": [
    "# 6. Plotting the train and test loss with each epoch number\n",
    "plt.plot(range(1, k+2), log_loss_lst_Train[1:],  label = 'Train_loss')\n",
    "plt.plot(range(1, k+2), log_loss_lst_Test[1:],  label = 'Test_loss')\n",
    "plt.xlabel('epoch')\n",
    "plt.ylabel('Log_loss')\n",
    "plt.title('Train-Test Log_loss for each Epoch')\n",
    "plt.grid()\n",
    "plt.legend()\n",
    "plt.show()"
   ]
  },
  {
   "cell_type": "markdown",
   "metadata": {},
   "source": [
    "# Comparing weight vector and bias term"
   ]
  },
  {
   "cell_type": "code",
   "execution_count": 57,
   "metadata": {},
   "outputs": [
    {
     "data": {
      "text/plain": [
       "(array([-0.4273222 ,  0.18119431, -0.1480419 ,  0.33481253, -0.19988765,\n",
       "         0.55881995, -0.45102735, -0.08348103,  0.21477186,  0.17715306,\n",
       "         0.1904157 ,  0.00401597, -0.07723124,  0.32884329,  0.02823938]),\n",
       " -0.8580489314545229,\n",
       " array([[-0.42667592,  0.1816455 , -0.14415724,  0.34206816, -0.20533706,\n",
       "          0.56175067, -0.45319481, -0.09094483,  0.21485474,  0.17900476,\n",
       "          0.19209177,  0.00387419, -0.08029135,  0.33539726,  0.03246409]]),\n",
       " array([-0.85804378]))"
      ]
     },
     "execution_count": 57,
     "metadata": {},
     "output_type": "execute_result"
    }
   ],
   "source": [
    "# 7. Comparing weight vector and the intercept term with sklearn's output\n",
    "w, bi, clf.coef_, clf.intercept_"
   ]
  },
  {
   "cell_type": "code",
   "execution_count": 59,
   "metadata": {},
   "outputs": [
    {
     "data": {
      "text/plain": [
       "(array([[-6.46277182e-04, -4.51191332e-04, -3.88466770e-03,\n",
       "         -7.25563483e-03,  5.44940732e-03, -2.93072604e-03,\n",
       "          2.16746620e-03,  7.46379222e-03, -8.28811273e-05,\n",
       "         -1.85170097e-03, -1.67606764e-03,  1.41781268e-04,\n",
       "          3.06010486e-03, -6.55397496e-03, -4.22470908e-03]]),\n",
       " array([-5.14707253e-06]))"
      ]
     },
     "execution_count": 59,
     "metadata": {},
     "output_type": "execute_result"
    }
   ],
   "source": [
    "# 8. Difference between weight/bias terms of manual SGD and Sklearn's SGD must be 10^-3\n",
    "w - clf.coef_, bi - clf.intercept_"
   ]
  }
 ],
 "metadata": {
  "kernelspec": {
   "display_name": "Python 3 (ipykernel)",
   "language": "python",
   "name": "python3"
  },
  "language_info": {
   "codemirror_mode": {
    "name": "ipython",
    "version": 3
   },
   "file_extension": ".py",
   "mimetype": "text/x-python",
   "name": "python",
   "nbconvert_exporter": "python",
   "pygments_lexer": "ipython3",
   "version": "3.9.7"
  }
 },
 "nbformat": 4,
 "nbformat_minor": 2
}
